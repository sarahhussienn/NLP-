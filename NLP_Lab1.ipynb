{
  "nbformat": 4,
  "nbformat_minor": 0,
  "metadata": {
    "colab": {
      "provenance": [],
      "collapsed_sections": [
        "s205epXfS14r",
        "l35Mna9xS8s7",
        "iHA2Ok1OTAbd",
        "JG9omLa3xwD3",
        "dM5BwsE8TDhy",
        "yz7ppHFRTHh2"
      ]
    },
    "kernelspec": {
      "name": "python3",
      "display_name": "Python 3"
    },
    "language_info": {
      "name": "python"
    }
  },
  "cells": [
    {
      "cell_type": "markdown",
      "source": [
        "# Basics in NLP"
      ],
      "metadata": {
        "id": "WUFiExTESy2B"
      }
    },
    {
      "cell_type": "code",
      "source": [
        "import nltk\n",
        "import spacy\n",
        "nlp = spacy.load('en_core_web_sm')\n",
        "\n",
        "from nltk.tokenize import sent_tokenize\n",
        "from nltk.tokenize import word_tokenize\n",
        "from nltk.stem import WordNetLemmatizer\n",
        "from nltk.stem.porter import PorterStemmer\n",
        "from nltk.corpus import stopwords\n",
        "from nltk.stem.snowball import SnowballStemmer\n",
        "from nltk.stem.porter import *\n",
        "\n",
        "nltk.download('punkt')\n",
        "nltk.download('wordnet')\n",
        "nltk.download('omw-1.4')\n",
        "nltk.download('stopwords')"
      ],
      "metadata": {
        "id": "UJlx2nxBUfPI",
        "colab": {
          "base_uri": "https://localhost:8080/"
        },
        "outputId": "1013b593-4a14-4e0f-e83e-c926d2a84464"
      },
      "execution_count": null,
      "outputs": [
        {
          "output_type": "stream",
          "name": "stderr",
          "text": [
            "[nltk_data] Downloading package punkt to /root/nltk_data...\n",
            "[nltk_data]   Unzipping tokenizers/punkt.zip.\n",
            "[nltk_data] Downloading package wordnet to /root/nltk_data...\n",
            "[nltk_data] Downloading package omw-1.4 to /root/nltk_data...\n",
            "[nltk_data] Downloading package stopwords to /root/nltk_data...\n",
            "[nltk_data]   Unzipping corpora/stopwords.zip.\n"
          ]
        },
        {
          "output_type": "execute_result",
          "data": {
            "text/plain": [
              "True"
            ]
          },
          "metadata": {},
          "execution_count": 1
        }
      ]
    },
    {
      "cell_type": "code",
      "source": [
        "example_text=\"The Indian Space Research Organisation or is the national space agency of India, headquartered in Bengaluru. It operates under Department of Space which is directly overseen by the Prime Minister of India while Chairman of ISRO acts as executive of DOS as well.\"\n"
      ],
      "metadata": {
        "id": "O7ykZBctwYMv"
      },
      "execution_count": null,
      "outputs": []
    },
    {
      "cell_type": "markdown",
      "source": [
        "## Tokenization and Segmentation"
      ],
      "metadata": {
        "id": "s205epXfS14r"
      }
    },
    {
      "cell_type": "markdown",
      "source": [
        "SpaCy"
      ],
      "metadata": {
        "id": "nUfGihWNuh_f"
      }
    },
    {
      "cell_type": "code",
      "source": [
        "doc = nlp(example_text)\n",
        "token_listSC = []\n",
        "for token in doc:\n",
        "    token_listSC.append(token.text)\n",
        "\n",
        "print(token_listSC)"
      ],
      "metadata": {
        "colab": {
          "base_uri": "https://localhost:8080/"
        },
        "id": "kB_-EqFOufFw",
        "outputId": "f4e1b9d3-be00-4a9d-8a6b-d21fa7305c23"
      },
      "execution_count": null,
      "outputs": [
        {
          "output_type": "stream",
          "name": "stdout",
          "text": [
            "['The', 'Indian', 'Space', 'Research', 'Organisation', 'or', 'is', 'the', 'national', 'space', 'agency', 'of', 'India', ',', 'headquartered', 'in', 'Bengaluru', '.', 'It', 'operates', 'under', 'Department', 'of', 'Space', 'which', 'is', 'directly', 'overseen', 'by', 'the', 'Prime', 'Minister', 'of', 'India', 'while', 'Chairman', 'of', 'ISRO', 'acts', 'as', 'executive', 'of', 'DOS', 'as', 'well', '.']\n"
          ]
        }
      ]
    },
    {
      "cell_type": "markdown",
      "source": [
        "NTLK"
      ],
      "metadata": {
        "id": "J2Wb3eMsujvf"
      }
    },
    {
      "cell_type": "code",
      "execution_count": null,
      "metadata": {
        "id": "yjLHAK_4Svf5"
      },
      "outputs": [],
      "source": [
        "tokens = nltk.word_tokenize(example_text)"
      ]
    },
    {
      "cell_type": "code",
      "source": [
        "p=\"In 2014 the Notre Dame student body consisted of 12,179 students, with 8,448 undergraduates, 2,138 graduate and professional and 1,593 professional (Law, M.Div., Business, M.Ed.)students. Around 21â€“24% of students are children of alumni, and although 3.7% of students come from the Midwestern United States, the student body represents all 50 states and 100 countries. As of March 2007[update] The Princeton Review ranked the school as the fifth highest 'dream school' for parents to send their children. As of March 2015[update] The Princeton Review ranked Notre Dame as the ninth highest. The school has been previously criticized for its lack of diversity, and The Princeton Review ranks the university highly among schools at which \\\"Alternative Lifestyles [are] Not an Alternative.\\\" It has also been commended by some diversity oriented publications; Hispanic Magazine in 2004 ranked the university ninth on its list of the topâ€“25 colleges for Latinos, and The Journal of Blacks in Higher Education recognized the university in 2006 for raising enrollment of African-American students. With 6,000 participants, the university's intramural sports program was named in 2004 by Sports Illustrated as the best program in the country, while in 2007 The Princeton Review named it as the top school where \\\"Everyone Plays Intramural Sports.\\\" The annual Bookstore Basketball tournament is the largest outdoor five-on-five tournament in the world with over 700 teams participating each year, while the Notre Dame Men's Boxing Club hosts the annual Bengal Bouts tournament that raises money for the Holy Cross Missions in Bangladesh.\""
      ],
      "metadata": {
        "id": "M1Hy--R86IDq"
      },
      "execution_count": null,
      "outputs": []
    },
    {
      "cell_type": "code",
      "source": [
        "from nltk import tokenize"
      ],
      "metadata": {
        "id": "oKBiyf9y6fK1"
      },
      "execution_count": null,
      "outputs": []
    },
    {
      "cell_type": "code",
      "source": [
        "tokenize.sent_tokenize(p)"
      ],
      "metadata": {
        "colab": {
          "base_uri": "https://localhost:8080/"
        },
        "id": "gfvZNdxV6Bk-",
        "outputId": "18a1d0b5-1a36-43a0-fdc9-66df4dab0bc1"
      },
      "execution_count": null,
      "outputs": [
        {
          "output_type": "execute_result",
          "data": {
            "text/plain": [
              "['In 2014 the Notre Dame student body consisted of 12,179 students, with 8,448 undergraduates, 2,138 graduate and professional and 1,593 professional (Law, M.Div., Business, M.Ed.)students.',\n",
              " 'Around 21â€“24% of students are children of alumni, and although 3.7% of students come from the Midwestern United States, the student body represents all 50 states and 100 countries.',\n",
              " \"As of March 2007[update] The Princeton Review ranked the school as the fifth highest 'dream school' for parents to send their children.\",\n",
              " 'As of March 2015[update] The Princeton Review ranked Notre Dame as the ninth highest.',\n",
              " 'The school has been previously criticized for its lack of diversity, and The Princeton Review ranks the university highly among schools at which \"Alternative Lifestyles [are] Not an Alternative.\"',\n",
              " 'It has also been commended by some diversity oriented publications; Hispanic Magazine in 2004 ranked the university ninth on its list of the topâ€“25 colleges for Latinos, and The Journal of Blacks in Higher Education recognized the university in 2006 for raising enrollment of African-American students.',\n",
              " 'With 6,000 participants, the university\\'s intramural sports program was named in 2004 by Sports Illustrated as the best program in the country, while in 2007 The Princeton Review named it as the top school where \"Everyone Plays Intramural Sports.\"',\n",
              " \"The annual Bookstore Basketball tournament is the largest outdoor five-on-five tournament in the world with over 700 teams participating each year, while the Notre Dame Men's Boxing Club hosts the annual Bengal Bouts tournament that raises money for the Holy Cross Missions in Bangladesh.\"]"
            ]
          },
          "metadata": {},
          "execution_count": 7
        }
      ]
    },
    {
      "cell_type": "markdown",
      "source": [
        "## Stemming and Lemmatization"
      ],
      "metadata": {
        "id": "l35Mna9xS8s7"
      }
    },
    {
      "cell_type": "markdown",
      "source": [
        "SpaCy"
      ],
      "metadata": {
        "id": "DWJsG6UPtxtH"
      }
    },
    {
      "cell_type": "code",
      "source": [
        "\n",
        "\n",
        "#Tokenization and lemmatization are done with the spacy nlp pipeline commands\n",
        "lemma_list = []\n",
        "for token in doc:\n",
        "    lemma_list.append(token.lemma_)\n",
        "\n",
        "\n",
        "print(lemma_list)\n",
        "\n"
      ],
      "metadata": {
        "colab": {
          "base_uri": "https://localhost:8080/"
        },
        "id": "RXI8iT7fsKtA",
        "outputId": "64c070d4-bc79-4077-d049-b2c8146a79e8"
      },
      "execution_count": null,
      "outputs": [
        {
          "output_type": "stream",
          "name": "stdout",
          "text": [
            "['the', 'Indian', 'Space', 'Research', 'Organisation', 'or', 'be', 'the', 'national', 'space', 'agency', 'of', 'India', ',', 'headquarter', 'in', 'Bengaluru', '.', 'it', 'operate', 'under', 'Department', 'of', 'Space', 'which', 'be', 'directly', 'oversee', 'by', 'the', 'Prime', 'Minister', 'of', 'India', 'while', 'Chairman', 'of', 'ISRO', 'act', 'as', 'executive', 'of', 'DOS', 'as', 'well', '.']\n"
          ]
        }
      ]
    },
    {
      "cell_type": "markdown",
      "source": [
        "NTLK"
      ],
      "metadata": {
        "id": "2saQH3M2tuDP"
      }
    },
    {
      "cell_type": "code",
      "execution_count": null,
      "metadata": {
        "id": "83AaoYRHqr-b",
        "outputId": "cd494d55-7531-4966-f4f0-6e51213f4dc7",
        "colab": {
          "base_uri": "https://localhost:8080/"
        }
      },
      "outputs": [
        {
          "output_type": "stream",
          "name": "stdout",
          "text": [
            "['the', 'indian', 'space', 'research', 'organis', 'or', 'is', 'the', 'nation', 'space', 'agenc', 'of', 'india', ',', 'headquart', 'in', 'bengaluru', '.', 'it', 'oper', 'under', 'depart', 'of', 'space', 'which', 'is', 'directli', 'overseen', 'by', 'the', 'prime', 'minist', 'of', 'india', 'while', 'chairman', 'of', 'isro', 'act', 'as', 'execut', 'of', 'do', 'as', 'well', '.']\n"
          ]
        }
      ],
      "source": [
        "p_stemmer = PorterStemmer()\n",
        "\n",
        "nltk_tokenList = word_tokenize(example_text)\n",
        "\n",
        "nltk_stemedList = []\n",
        "for word in nltk_tokenList:\n",
        "    nltk_stemedList.append(p_stemmer.stem(word))\n",
        "\n",
        "\n",
        "print(nltk_stemedList)\n",
        "\n"
      ]
    },
    {
      "cell_type": "code",
      "source": [
        "\n",
        "wordnet_lemmatizer = WordNetLemmatizer()\n",
        "\n",
        "nltk_lemmaList = []\n",
        "for word in nltk_stemedList:\n",
        "    nltk_lemmaList.append(wordnet_lemmatizer.lemmatize(word))\n",
        "\n",
        "print(nltk_lemmaList)"
      ],
      "metadata": {
        "colab": {
          "base_uri": "https://localhost:8080/"
        },
        "id": "2eJu-nRQtkOv",
        "outputId": "99a56842-07bc-43b5-eca0-ad55c4be6724"
      },
      "execution_count": null,
      "outputs": [
        {
          "output_type": "stream",
          "name": "stdout",
          "text": [
            "['the', 'indian', 'space', 'research', 'organis', 'or', 'is', 'the', 'nation', 'space', 'agenc', 'of', 'india', ',', 'headquart', 'in', 'bengaluru', '.', 'it', 'oper', 'under', 'depart', 'of', 'space', 'which', 'is', 'directli', 'overseen', 'by', 'the', 'prime', 'minist', 'of', 'india', 'while', 'chairman', 'of', 'isro', 'act', 'a', 'execut', 'of', 'do', 'a', 'well', '.']\n"
          ]
        }
      ]
    },
    {
      "cell_type": "markdown",
      "source": [
        "## Stop Words Removal"
      ],
      "metadata": {
        "id": "iHA2Ok1OTAbd"
      }
    },
    {
      "cell_type": "markdown",
      "source": [
        "SpaCy"
      ],
      "metadata": {
        "id": "WHnsLXxft2c3"
      }
    },
    {
      "cell_type": "code",
      "source": [
        "#Filter the stopword Spacy\n",
        "filtered_sentence =[]\n",
        "for word in lemma_list:\n",
        "    lexeme = nlp.vocab[word]\n",
        "    if lexeme.is_stop == False:\n",
        "        filtered_sentence.append(word)\n",
        "\n"
      ],
      "metadata": {
        "id": "7SNbS1ntsgdY"
      },
      "execution_count": null,
      "outputs": []
    },
    {
      "cell_type": "markdown",
      "source": [
        "NTLK"
      ],
      "metadata": {
        "id": "b3-iCwXmt36o"
      }
    },
    {
      "cell_type": "code",
      "source": [
        "\n",
        "\n",
        "nltk_stop_words = set(stopwords.words('english'))\n",
        "# print(nltk_stop_words)\n",
        "\n",
        "for w in nltk_lemmaList:\n",
        "    if w not in nltk_stop_words:\n",
        "        filtered_sentence.append(w)\n",
        "\n",
        "print(filtered_sentence)\n"
      ],
      "metadata": {
        "id": "ELDbqyLVWCz1",
        "colab": {
          "base_uri": "https://localhost:8080/"
        },
        "outputId": "299ae981-948d-49cb-f5b4-8e682f92f75b"
      },
      "execution_count": null,
      "outputs": [
        {
          "output_type": "stream",
          "name": "stdout",
          "text": [
            "['Indian', 'Space', 'Research', 'Organisation', 'national', 'space', 'agency', 'India', ',', 'headquarter', 'Bengaluru', '.', 'operate', 'Department', 'Space', 'directly', 'oversee', 'Prime', 'Minister', 'India', 'Chairman', 'ISRO', 'act', 'executive', 'DOS', '.', 'indian', 'space', 'research', 'organis', 'nation', 'space', 'agenc', 'india', ',', 'headquart', 'bengaluru', '.', 'oper', 'depart', 'space', 'directli', 'overseen', 'prime', 'minist', 'india', 'chairman', 'isro', 'act', 'execut', 'well', '.']\n"
          ]
        }
      ]
    },
    {
      "cell_type": "markdown",
      "source": [
        "SKLearn"
      ],
      "metadata": {
        "id": "PZA8IU8Tt5Cf"
      }
    },
    {
      "cell_type": "code",
      "source": [
        "from sklearn.feature_extraction import text\n",
        "stopwordsSK = text.ENGLISH_STOP_WORDS\n",
        "print(sorted(list(stopwordsSK)))"
      ],
      "metadata": {
        "colab": {
          "base_uri": "https://localhost:8080/"
        },
        "id": "e9aD-ty6s1I_",
        "outputId": "f7603684-c9fa-4112-f02a-91204f3694bd"
      },
      "execution_count": null,
      "outputs": [
        {
          "output_type": "stream",
          "name": "stdout",
          "text": [
            "['a', 'about', 'above', 'across', 'after', 'afterwards', 'again', 'against', 'all', 'almost', 'alone', 'along', 'already', 'also', 'although', 'always', 'am', 'among', 'amongst', 'amoungst', 'amount', 'an', 'and', 'another', 'any', 'anyhow', 'anyone', 'anything', 'anyway', 'anywhere', 'are', 'around', 'as', 'at', 'back', 'be', 'became', 'because', 'become', 'becomes', 'becoming', 'been', 'before', 'beforehand', 'behind', 'being', 'below', 'beside', 'besides', 'between', 'beyond', 'bill', 'both', 'bottom', 'but', 'by', 'call', 'can', 'cannot', 'cant', 'co', 'con', 'could', 'couldnt', 'cry', 'de', 'describe', 'detail', 'do', 'done', 'down', 'due', 'during', 'each', 'eg', 'eight', 'either', 'eleven', 'else', 'elsewhere', 'empty', 'enough', 'etc', 'even', 'ever', 'every', 'everyone', 'everything', 'everywhere', 'except', 'few', 'fifteen', 'fifty', 'fill', 'find', 'fire', 'first', 'five', 'for', 'former', 'formerly', 'forty', 'found', 'four', 'from', 'front', 'full', 'further', 'get', 'give', 'go', 'had', 'has', 'hasnt', 'have', 'he', 'hence', 'her', 'here', 'hereafter', 'hereby', 'herein', 'hereupon', 'hers', 'herself', 'him', 'himself', 'his', 'how', 'however', 'hundred', 'i', 'ie', 'if', 'in', 'inc', 'indeed', 'interest', 'into', 'is', 'it', 'its', 'itself', 'keep', 'last', 'latter', 'latterly', 'least', 'less', 'ltd', 'made', 'many', 'may', 'me', 'meanwhile', 'might', 'mill', 'mine', 'more', 'moreover', 'most', 'mostly', 'move', 'much', 'must', 'my', 'myself', 'name', 'namely', 'neither', 'never', 'nevertheless', 'next', 'nine', 'no', 'nobody', 'none', 'noone', 'nor', 'not', 'nothing', 'now', 'nowhere', 'of', 'off', 'often', 'on', 'once', 'one', 'only', 'onto', 'or', 'other', 'others', 'otherwise', 'our', 'ours', 'ourselves', 'out', 'over', 'own', 'part', 'per', 'perhaps', 'please', 'put', 'rather', 're', 'same', 'see', 'seem', 'seemed', 'seeming', 'seems', 'serious', 'several', 'she', 'should', 'show', 'side', 'since', 'sincere', 'six', 'sixty', 'so', 'some', 'somehow', 'someone', 'something', 'sometime', 'sometimes', 'somewhere', 'still', 'such', 'system', 'take', 'ten', 'than', 'that', 'the', 'their', 'them', 'themselves', 'then', 'thence', 'there', 'thereafter', 'thereby', 'therefore', 'therein', 'thereupon', 'these', 'they', 'thick', 'thin', 'third', 'this', 'those', 'though', 'three', 'through', 'throughout', 'thru', 'thus', 'to', 'together', 'too', 'top', 'toward', 'towards', 'twelve', 'twenty', 'two', 'un', 'under', 'until', 'up', 'upon', 'us', 'very', 'via', 'was', 'we', 'well', 'were', 'what', 'whatever', 'when', 'whence', 'whenever', 'where', 'whereafter', 'whereas', 'whereby', 'wherein', 'whereupon', 'wherever', 'whether', 'which', 'while', 'whither', 'who', 'whoever', 'whole', 'whom', 'whose', 'why', 'will', 'with', 'within', 'without', 'would', 'yet', 'you', 'your', 'yours', 'yourself', 'yourselves']\n"
          ]
        }
      ]
    },
    {
      "cell_type": "markdown",
      "source": [
        "## Punctuation"
      ],
      "metadata": {
        "id": "JG9omLa3xwD3"
      }
    },
    {
      "cell_type": "code",
      "source": [
        "\n",
        "#Remove punctuation\n",
        "punctuations=\"?:!.,;\"\n",
        "for word in filtered_sentence:\n",
        "    if word in punctuations:\n",
        "        filtered_sentence.remove(word)\n",
        "print(\"Remove stopword & punctuation: \")\n",
        "print(filtered_sentence)"
      ],
      "metadata": {
        "colab": {
          "base_uri": "https://localhost:8080/"
        },
        "id": "6E-nOjb4xzoH",
        "outputId": "4c5ba82a-46c5-4508-e10b-6fa6a7c0737c"
      },
      "execution_count": null,
      "outputs": [
        {
          "output_type": "stream",
          "name": "stdout",
          "text": [
            "Remove stopword & punctuation: \n",
            "['Indian', 'Space', 'Research', 'Organisation', 'national', 'space', 'agency', 'India', 'headquarter', 'Bengaluru', 'operate', 'Department', 'Space', 'directly', 'oversee', 'Prime', 'Minister', 'India', 'Chairman', 'ISRO', 'act', 'executive', 'DOS', 'indian', 'space', 'research', 'organis', 'nation', 'space', 'agenc', 'india', 'headquart', 'bengaluru', 'oper', 'depart', 'space', 'directli', 'overseen', 'prime', 'minist', 'india', 'chairman', 'isro', 'act', 'execut', 'well']\n"
          ]
        }
      ]
    },
    {
      "cell_type": "markdown",
      "source": [
        "## Part-of-speech POS Tagging"
      ],
      "metadata": {
        "id": "dM5BwsE8TDhy"
      }
    },
    {
      "cell_type": "code",
      "source": [
        "%%time\n",
        "\n",
        "\n",
        "# Print each token separately\n",
        "for token in doc:\n",
        "    print(token.text, token.pos_, token.dep_, token.lemma_)"
      ],
      "metadata": {
        "colab": {
          "base_uri": "https://localhost:8080/"
        },
        "id": "2-YelzDFspSn",
        "outputId": "a91713ab-9a0c-43d0-8487-75e306f7cfac"
      },
      "execution_count": null,
      "outputs": [
        {
          "output_type": "stream",
          "name": "stdout",
          "text": [
            "The DET det the\n",
            "Indian PROPN compound Indian\n",
            "Space PROPN compound Space\n",
            "Research PROPN compound Research\n",
            "Organisation PROPN nsubj Organisation\n",
            "or CCONJ cc or\n",
            "is AUX ROOT be\n",
            "the DET det the\n",
            "national ADJ amod national\n",
            "space NOUN compound space\n",
            "agency NOUN attr agency\n",
            "of ADP prep of\n",
            "India PROPN pobj India\n",
            ", PUNCT punct ,\n",
            "headquartered VERB acl headquarter\n",
            "in ADP prep in\n",
            "Bengaluru PROPN pobj Bengaluru\n",
            ". PUNCT punct .\n",
            "It PRON nsubj it\n",
            "operates VERB ROOT operate\n",
            "under ADP prep under\n",
            "Department PROPN pobj Department\n",
            "of ADP prep of\n",
            "Space PROPN pobj Space\n",
            "which PRON nsubjpass which\n",
            "is AUX auxpass be\n",
            "directly ADV advmod directly\n",
            "overseen VERB relcl oversee\n",
            "by ADP agent by\n",
            "the DET det the\n",
            "Prime PROPN compound Prime\n",
            "Minister PROPN pobj Minister\n",
            "of ADP prep of\n",
            "India PROPN pobj India\n",
            "while SCONJ mark while\n",
            "Chairman PROPN nsubj Chairman\n",
            "of ADP prep of\n",
            "ISRO PROPN pobj ISRO\n",
            "acts VERB advcl act\n",
            "as ADP prep as\n",
            "executive NOUN pobj executive\n",
            "of ADP prep of\n",
            "DOS PROPN pobj DOS\n",
            "as ADV advmod as\n",
            "well ADV advmod well\n",
            ". PUNCT punct .\n",
            "CPU times: user 12.8 ms, sys: 1.04 ms, total: 13.8 ms\n",
            "Wall time: 18.1 ms\n"
          ]
        }
      ]
    },
    {
      "cell_type": "code",
      "source": [
        "The DET det the\n",
        "Indian PROPN compound Indian\n",
        "Space PROPN compound Space\n",
        "Research PROPN compound Research\n",
        "Organisation PROPN nsubj Organisation\n",
        "or CCONJ cc or\n",
        "is AUX ROOT be\n",
        "the DET det the\n",
        "national ADJ amod national\n",
        "space NOUN compound space\n",
        "agency NOUN attr agency\n",
        "of ADP prep of\n",
        "India PROPN pobj India\n",
        ", PUNCT punct ,\n",
        "headquartered VERB acl headquarter\n",
        "in ADP prep in\n",
        "Bengaluru PROPN pobj Bengaluru\n",
        ". PUNCT punct .\n",
        "It PRON nsubj it\n",
        "operates VERB ROOT operate\n",
        "under ADP prep under\n",
        "Department PROPN pobj Department\n",
        "of ADP prep of\n",
        "Space PROPN pobj Space\n",
        "which PRON nsubjpass which\n",
        "is AUX auxpass be\n",
        "directly ADV advmod directly\n",
        "overseen VERB relcl oversee\n",
        "by ADP agent by\n",
        "the DET det the\n",
        "Prime PROPN compound Prime\n",
        "Minister PROPN pobj Minister\n",
        "of ADP prep of\n",
        "India PROPN pobj India\n",
        "while SCONJ mark while\n",
        "Chairman PROPN nsubj Chairman\n",
        "of ADP prep of\n",
        "ISRO PROPN pobj ISRO\n",
        "acts VERB advcl act\n",
        "as ADP prep as\n",
        "executive NOUN pobj executive\n",
        "of ADP prep of\n",
        "DOS PROPN pobj DOS\n",
        "as ADV advmod as\n",
        "well ADV advmod well\n",
        ". PUNCT punct .\n",
        "CPU times: user 12.8 ms, sys: 1.04 ms, total: 13.8 ms\n",
        "Wall time: 18.1 ms"
      ],
      "metadata": {
        "id": "iXPISYGxd8N9"
      },
      "execution_count": null,
      "outputs": []
    },
    {
      "cell_type": "markdown",
      "source": [
        "## Name-Entity_recognition NER"
      ],
      "metadata": {
        "id": "yz7ppHFRTHh2"
      }
    },
    {
      "cell_type": "code",
      "source": [
        "for word in doc.ents:\n",
        "    print(word.text,word.label_)\n",
        "\n"
      ],
      "metadata": {
        "colab": {
          "base_uri": "https://localhost:8080/"
        },
        "id": "FqVoCu5JvI1_",
        "outputId": "eda37c62-b354-4290-9e71-d8df1de7df32"
      },
      "execution_count": null,
      "outputs": [
        {
          "output_type": "stream",
          "name": "stdout",
          "text": [
            "The Indian Space Research Organisation ORG\n",
            "India GPE\n",
            "Bengaluru GPE\n",
            "Department of Space ORG\n",
            "India GPE\n",
            "ISRO ORG\n",
            "DOS ORG\n"
          ]
        }
      ]
    },
    {
      "cell_type": "markdown",
      "source": [
        "# Additional Resources"
      ],
      "metadata": {
        "id": "uybXvB_PTMO0"
      }
    },
    {
      "cell_type": "markdown",
      "source": [
        "[NTLK Documentation](https://www.nltk.org/)\n",
        "\n",
        "[Spacy vs NTLK ](https://medium.com/@akankshamalhotra24/introduction-to-libraries-of-nlp-in-python-nltk-vs-spacy-42d7b2f128f2)\n",
        "\n",
        "[Why we still need Text Normalization?](https://towardsdatascience.com/text-normalization-for-natural-language-processing-nlp-70a314bfa646#:~:text=Why%20do%20we%20need%20text,with%2C%20and%20therefore%20improves%20efficiency.)\n",
        "\n",
        "[NER](https://www.analyticsvidhya.com/blog/2021/06/nlp-application-named-entity-recognition-ner-in-python-with-spacy/)\n",
        "\n",
        "[Lab References1](https://lvngd.com/blog/text-normalization-natural-language-processing-python/)\n",
        "\n",
        "[Lab References2](https://towardsdatascience.com/text-normalization-with-spacy-and-nltk-1302ff430119)\n",
        "\n",
        "[Lab References3](https://towardsdatascience.com/a-guide-to-cleaning-text-in-python-943356ac86ca)\n",
        "\n",
        "[PyTorch vs TensorFlow1](https://www.simplilearn.com/keras-vs-tensorflow-vs-pytorch-article#:~:text=TensorFlow%20offers%20better%20visualization%2C%20which,to%20the%20TensorFlow%20Serving%20framework.)  \n",
        "\n",
        "\n",
        "[PyTorch vs TensorFlow2](https://towardsdatascience.com/pytorch-vs-tensorflow-spotting-the-difference-25c75777377b)\n"
      ],
      "metadata": {
        "id": "vjX2XOIrOEsm"
      }
    },
    {
      "cell_type": "markdown",
      "source": [
        "My Info:\n",
        "\n",
        "\n",
        "*   mayar.osama@guc.edu.eg\n",
        "*   C3.306\n",
        "\n"
      ],
      "metadata": {
        "id": "Gw0ScvZo2Ws3"
      }
    }
  ]
}